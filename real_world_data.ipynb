{
 "cells": [
  {
   "cell_type": "code",
   "execution_count": null,
   "metadata": {},
   "outputs": [],
   "source": [
    "# steps for portfolio optimization \n",
    "# Step 1: Collected adjusted closing prices for 70 stocks from 8 different sectors for 8 years\n",
    "# Step 2: Compute percetange gain/loss w.r.t previous day\n",
    "# Step 3: Collect data for features\n",
    "# Step 3.1 --> Trading volume\n",
    "# Step 3.2 --> Volatility Index (VIX)\n",
    "# Step 3.3 --> 10-year Treasury Yield Index (TNX)\n",
    "# Step 3.4 --> Oil Index (CL=F)\n",
    "# Step 3.5 --> S&P Index (GSPC)\n",
    "# Step 3.6 --> Global Income & Currency Fund (XGCFX)\n",
    "# Step 3.7 --> Dow Jones Index (DJI)\n",
    "\n",
    "# Step 4 --> Use 3 years of data to train and the following year's data as validation to\n",
    "# get the best hyperparameters\n",
    "\n",
    "# Step 5 (a little unclear) --> Model using the 4 years of data to build the final model\n"
   ]
  },
  {
   "cell_type": "code",
   "execution_count": null,
   "metadata": {},
   "outputs": [],
   "source": [
    "\n",
    "import quandl\n",
    "quandl.ApiConfig.api_key = \"6yEusj8NAz6mkQLeVvpB\"\n"
   ]
  },
  {
   "cell_type": "code",
   "execution_count": 4,
   "metadata": {},
   "outputs": [
    {
     "data": {
      "text/html": [
       "<div>\n",
       "<style scoped>\n",
       "    .dataframe tbody tr th:only-of-type {\n",
       "        vertical-align: middle;\n",
       "    }\n",
       "\n",
       "    .dataframe tbody tr th {\n",
       "        vertical-align: top;\n",
       "    }\n",
       "\n",
       "    .dataframe thead th {\n",
       "        text-align: right;\n",
       "    }\n",
       "</style>\n",
       "<table border=\"1\" class=\"dataframe\">\n",
       "  <thead>\n",
       "    <tr style=\"text-align: right;\">\n",
       "      <th></th>\n",
       "      <th>ticker</th>\n",
       "      <th>date</th>\n",
       "      <th>adj_close</th>\n",
       "    </tr>\n",
       "    <tr>\n",
       "      <th>None</th>\n",
       "      <th></th>\n",
       "      <th></th>\n",
       "      <th></th>\n",
       "    </tr>\n",
       "  </thead>\n",
       "  <tbody>\n",
       "    <tr>\n",
       "      <th>0</th>\n",
       "      <td>WMT</td>\n",
       "      <td>2016-12-30</td>\n",
       "      <td>67.742045</td>\n",
       "    </tr>\n",
       "    <tr>\n",
       "      <th>1</th>\n",
       "      <td>WMT</td>\n",
       "      <td>2016-12-29</td>\n",
       "      <td>67.879254</td>\n",
       "    </tr>\n",
       "    <tr>\n",
       "      <th>2</th>\n",
       "      <td>WMT</td>\n",
       "      <td>2016-12-28</td>\n",
       "      <td>67.928257</td>\n",
       "    </tr>\n",
       "    <tr>\n",
       "      <th>3</th>\n",
       "      <td>WMT</td>\n",
       "      <td>2016-12-27</td>\n",
       "      <td>68.310482</td>\n",
       "    </tr>\n",
       "    <tr>\n",
       "      <th>4</th>\n",
       "      <td>WMT</td>\n",
       "      <td>2016-12-23</td>\n",
       "      <td>68.153672</td>\n",
       "    </tr>\n",
       "  </tbody>\n",
       "</table>\n",
       "</div>"
      ],
      "text/plain": [
       "     ticker       date  adj_close\n",
       "None                             \n",
       "0       WMT 2016-12-30  67.742045\n",
       "1       WMT 2016-12-29  67.879254\n",
       "2       WMT 2016-12-28  67.928257\n",
       "3       WMT 2016-12-27  68.310482\n",
       "4       WMT 2016-12-23  68.153672"
      ]
     },
     "execution_count": 4,
     "metadata": {},
     "output_type": "execute_result"
    }
   ],
   "source": [
    "data = quandl.get_table('WIKI/PRICES', ticker = ['AAPL', 'MSFT', 'WMT'], \n",
    "                        qopts = { 'columns': ['ticker', 'date', 'adj_close'] }, \n",
    "                        date = { 'gte': '2015-12-31', 'lte': '2016-12-31' }, \n",
    "                        paginate=True)\n",
    "data.head()"
   ]
  }
 ],
 "metadata": {
  "kernelspec": {
   "display_name": "base",
   "language": "python",
   "name": "python3"
  },
  "language_info": {
   "codemirror_mode": {
    "name": "ipython",
    "version": 3
   },
   "file_extension": ".py",
   "mimetype": "text/x-python",
   "name": "python",
   "nbconvert_exporter": "python",
   "pygments_lexer": "ipython3",
   "version": "3.9.7"
  },
  "orig_nbformat": 4
 },
 "nbformat": 4,
 "nbformat_minor": 2
}
